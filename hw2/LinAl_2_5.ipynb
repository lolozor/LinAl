{
  "nbformat": 4,
  "nbformat_minor": 0,
  "metadata": {
    "colab": {
      "name": "LinAl_2_5.ipynb",
      "provenance": [],
      "collapsed_sections": [],
      "authorship_tag": "ABX9TyPsj9Saca69Yxthlfi6AmdG",
      "include_colab_link": true
    },
    "kernelspec": {
      "name": "python3",
      "display_name": "Python 3"
    }
  },
  "cells": [
    {
      "cell_type": "markdown",
      "metadata": {
        "id": "view-in-github",
        "colab_type": "text"
      },
      "source": [
        "<a href=\"https://colab.research.google.com/github/lolozor/LinAl/blob/master/LinAl_2_5.ipynb\" target=\"_parent\"><img src=\"https://colab.research.google.com/assets/colab-badge.svg\" alt=\"Open In Colab\"/></a>"
      ]
    },
    {
      "cell_type": "markdown",
      "metadata": {
        "id": "mfc82HgXALwj",
        "colab_type": "text"
      },
      "source": [
        "5*. Написать на Python функцию для перемножения двух произвольных матриц, не используя NumPy."
      ]
    },
    {
      "cell_type": "code",
      "metadata": {
        "id": "fB66pozT7Ekp",
        "colab_type": "code",
        "colab": {}
      },
      "source": [
        "import random"
      ],
      "execution_count": 41,
      "outputs": []
    },
    {
      "cell_type": "code",
      "metadata": {
        "id": "ic23Hun_GAaM",
        "colab_type": "code",
        "colab": {}
      },
      "source": [
        "def mult(a, b, result):\n",
        "  for i in range(len(a)):\n",
        "        for j in range(len(b[0])):\n",
        "                for k in range(len(b)):\n",
        "                        result[i][j] += a[i][k] * b[k][j]\n",
        "  return result"
      ],
      "execution_count": 54,
      "outputs": []
    },
    {
      "cell_type": "code",
      "metadata": {
        "id": "ptJs1Z2V6kg1",
        "colab_type": "code",
        "colab": {
          "base_uri": "https://localhost:8080/",
          "height": 136
        },
        "outputId": "b9205a19-5993-4dff-e188-d5b6f87580f9"
      },
      "source": [
        "a1 = int(input('Строк в 1 матрице: '))\n",
        "b1 = int(input('Столбцов в 1 матрице: '))\n",
        "a2 = int(input('Строк во 2 матрице: '))\n",
        "b2 = int(input('Столбцов во 2 матрице: '))\n",
        "\n",
        "a = [[random.randint(0,10) for i in range(a1)] for j in range(b1)]\n",
        "b = [[random.randint(0,10) for k in range(a2)] for l in range(b2)]\n",
        "r = np.zeros((b1,a2), dtype=int)\n",
        "\n",
        "res = mult(a,b,r)\n",
        "print(res)"
      ],
      "execution_count": 65,
      "outputs": [
        {
          "output_type": "stream",
          "text": [
            "Строк в 1 матрице: 4\n",
            "Столбцов в 1 матрице: 3\n",
            "Строк во 2 матрице: 5\n",
            "Столбцов во 2 матрице: 4\n",
            "[[ 93  59  88  32  19]\n",
            " [179 227 232 132  89]\n",
            " [128  70 112  44  20]]\n"
          ],
          "name": "stdout"
        }
      ]
    },
    {
      "cell_type": "markdown",
      "metadata": {
        "id": "VOkWxKmsF7Pz",
        "colab_type": "text"
      },
      "source": [
        "Проверка"
      ]
    },
    {
      "cell_type": "code",
      "metadata": {
        "id": "0OljJtqXFKXJ",
        "colab_type": "code",
        "colab": {
          "base_uri": "https://localhost:8080/",
          "height": 68
        },
        "outputId": "0f609cc4-df58-403b-c757-92cd8318e87f"
      },
      "source": [
        "import numpy as np\n",
        "\n",
        "print(np.array(a).dot(np.array(b)))"
      ],
      "execution_count": 67,
      "outputs": [
        {
          "output_type": "stream",
          "text": [
            "[[ 93  59  88  32  19]\n",
            " [179 227 232 132  89]\n",
            " [128  70 112  44  20]]\n"
          ],
          "name": "stdout"
        }
      ]
    },
    {
      "cell_type": "code",
      "metadata": {
        "id": "EEjZNR0sF5r0",
        "colab_type": "code",
        "colab": {}
      },
      "source": [
        ""
      ],
      "execution_count": null,
      "outputs": []
    }
  ]
}
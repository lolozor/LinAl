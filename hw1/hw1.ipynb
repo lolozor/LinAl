{
 "cells": [
  {
   "cell_type": "markdown",
   "metadata": {},
   "source": [
    "# Потемкин. ДЗ1"
   ]
  },
  {
   "cell_type": "code",
   "execution_count": 1,
   "metadata": {},
   "outputs": [],
   "source": [
    "from scipy.linalg import solve\n",
    "import numpy as np"
   ]
  },
  {
   "cell_type": "markdown",
   "metadata": {},
   "source": [
    "### Часть 1"
   ]
  },
  {
   "cell_type": "markdown",
   "metadata": {},
   "source": [
    "__1.__ Исследовать на линейную зависимость:\n",
    "$$f_{1}(x)=e^{x}, f_{2}(x)=1, f_{3}(x)=x+1, f_{4}(x)=x-e^{x}.$$"
   ]
  },
  {
   "cell_type": "markdown",
   "metadata": {},
   "source": [
    "#### Решение:\n",
    "\n",
    "$$f_1(x) = -f_4(x) - f_3(x) + f_2(x)$$\n",
    "$f_1$ можно выразить через $f_2$, $f_3$ и $f_4$, значит они `линейно зависимы`"
   ]
  },
  {
   "cell_type": "markdown",
   "metadata": {},
   "source": [
    "__2.__ Исследовать на линейную зависимость:\n",
    "$$f_{1}(x)=2, f_{2}(x)=x, f_{3}(x)=x^{2}, f_{4}(x)=(x+1)^{2}.$$\n",
    "#### Решение:\n",
    "$$f_4(x) = (x+1)^2 = x^2 + 2x + 1 = f_{3}(x) + 2f_{2}(x) + \\frac{f_{1}(x)}{2}$$\n",
    "Значит $f_1$, $f_2$, $f_3$ и $f_4$ `линейно зависимы`"
   ]
  },
  {
   "cell_type": "markdown",
   "metadata": {},
   "source": [
    "__3.__ Найти координаты вектора $x = (2, 3, 5)\\in \\mathbb{R}^{3}$ в базисе $b_{1}=(0, 0, 10)$, $b_{2}=(2, 0, 0)$, $b_{3}=(0, 1, 0)$."
   ]
  },
  {
   "cell_type": "markdown",
   "metadata": {},
   "source": [
    "#### Решение: \n",
    "Запишем в матричном виде и решим используя метод `solve` пакета `scipy.linalg`"
   ]
  },
  {
   "cell_type": "code",
   "execution_count": 27,
   "metadata": {},
   "outputs": [
    {
     "name": "stdout",
     "output_type": "stream",
     "text": [
      "[0.5 1.  3. ]\n"
     ]
    }
   ],
   "source": [
    "X = np.array([2,3,5])\n",
    "\n",
    "B = np.array([\n",
    "    [0, 0, 10],\n",
    "    [2, 0, 0],\n",
    "    [0, 1, 0]]).T\n",
    "\n",
    "print(solve(B, X))"
   ]
  },
  {
   "cell_type": "markdown",
   "metadata": {},
   "source": [
    "__4.__ Найти координаты вектора $3x^{2}-2x+2\\in\\mathbb{R}^{3}[x]$:\n",
    "\n",
    "   а) в базисе $1$, $x$, $x^{2}$;\n",
    "\n",
    "   б) в базисе $x^{2}$, $x-1$, $1$."
   ]
  },
  {
   "cell_type": "markdown",
   "metadata": {},
   "source": [
    "#### Решение:\n",
    "Запишем базисы в матричном виде и решим"
   ]
  },
  {
   "cell_type": "code",
   "execution_count": 36,
   "metadata": {},
   "outputs": [
    {
     "name": "stdout",
     "output_type": "stream",
     "text": [
      "[ 2. -2.  3.], \n",
      "[ 3. -2.  0.]\n"
     ]
    }
   ],
   "source": [
    "X = np.array([3, -2, 2])\n",
    "B1 = np.array([\n",
    "    [0,0,1],\n",
    "    [0,1,0],\n",
    "    [1,0,0]\n",
    "]).T\n",
    "\n",
    "B2 = np.array([\n",
    "    [1,0,0],\n",
    "    [0,1,-1],\n",
    "    [0,0,1]\n",
    "]).T\n",
    "\n",
    "\n",
    "print(f'{solve(B1, X)}, \\n{solve(B2, X)}')"
   ]
  },
  {
   "cell_type": "markdown",
   "metadata": {},
   "source": [
    "__5.__ Установить, является ли линейным подпространством:\n",
    "\n",
    "а) совокупность всех векторов трехмерного пространства, у которых по крайней мере одна из первых двух координат равна нулю;\n",
    "    \n",
    "`Для проверки сложим (0, b, c) и (d, 0, e). Получим (d, b, c+e) что НЕ принадлежит к начальному пространству.`\n",
    "\n",
    "б) все векторы, являющиеся линейными комбинациями данных векторов $\\{u_{1}, u_{2}, ..., u_{n}\\}$.\n",
    "\n",
    "`Да, так-как сумма линейных комбинаций - это линейная комбинация, и линейная комбинация умноденная на скаляр - тоже линейная комбинация.`"
   ]
  },
  {
   "cell_type": "markdown",
   "metadata": {},
   "source": [
    "### Часть 2"
   ]
  },
  {
   "cell_type": "markdown",
   "metadata": {},
   "source": [
    "__1.__ Найти скалярное произведение векторов $x, y \\in \\mathbb{R}$:<br>\n",
    "а) $x=(0,-3, 6),~y=(-4, 7, 9);$<br>\n",
    "б) $x=(7, -4, 0, 1),~y=(-3, 1, 11, 2).$"
   ]
  },
  {
   "cell_type": "markdown",
   "metadata": {},
   "source": [
    "#### Решение:"
   ]
  },
  {
   "cell_type": "code",
   "execution_count": 50,
   "metadata": {},
   "outputs": [
    {
     "data": {
      "text/plain": [
       "33"
      ]
     },
     "execution_count": 50,
     "metadata": {},
     "output_type": "execute_result"
    }
   ],
   "source": [
    "# a)\n",
    "\n",
    "x = np.array([0, -3, 6])\n",
    "y = np.array([-4, 7, 9])\n",
    "\n",
    "x@y"
   ]
  },
  {
   "cell_type": "code",
   "execution_count": 52,
   "metadata": {},
   "outputs": [
    {
     "data": {
      "text/plain": [
       "-23"
      ]
     },
     "execution_count": 52,
     "metadata": {},
     "output_type": "execute_result"
    }
   ],
   "source": [
    "# b)\n",
    "\n",
    "x = np.array([7, -4, 0, 1])\n",
    "y = np.array([-3, 1, 11, 2])\n",
    "\n",
    "np.dot(x,y)"
   ]
  },
  {
   "cell_type": "markdown",
   "metadata": {},
   "source": [
    "__2.__ Найти нормы векторов $(4, 2, 4)$ и $(12, 3, 4)$ и угол между ними.\n",
    "#### Решение:\n"
   ]
  },
  {
   "cell_type": "code",
   "execution_count": 54,
   "metadata": {},
   "outputs": [
    {
     "name": "stdout",
     "output_type": "stream",
     "text": [
      "нормы векторов: \n",
      "x1: 6 \n",
      "x2: 13\n",
      "Косинус угола: 0.8974358974358975\n"
     ]
    }
   ],
   "source": [
    "x1 = np.array([4, 2, 4])\n",
    "x2 = np.array([12, 3, 4])\n",
    "\n",
    "x1_n = np.linalg.norm(x1)\n",
    "x2_n = np.linalg.norm(x2)\n",
    "\n",
    "cos = np.dot(x1, x2)/(x1_n * x2_n)\n",
    "\n",
    "print(f'нормы векторов: \\nx1: {int(x1_n)} \\nx2: {int(x2_n)}')\n",
    "print(f'Косинус угола: {cos}')"
   ]
  },
  {
   "cell_type": "markdown",
   "metadata": {},
   "source": [
    "__3.__ Будет ли линейное пространство евклидовым, если за скалярное произведение принять:<br>\n",
    "а) произведение длин векторов; - <b>НЕТ</b> <br>\n",
    "б) утроенное обычное скалярное произведение векторов? - <b>ДА</b>\n",
    "   "
   ]
  },
  {
   "cell_type": "markdown",
   "metadata": {},
   "source": [
    "__4.__ Какие из нижеперечисленных векторов образуют ортонормированный базис в линейном пространстве $\\mathbb{R}^{3}$:<br>\n",
    "а) $(1,0,0),(0,0,1);$ <br>"
   ]
  },
  {
   "cell_type": "markdown",
   "metadata": {},
   "source": [
    "`НЕТ`, так как в линейном прострастве $\\mathbb{R}^{3}$: для базиса нужны 3 вектора!<br> "
   ]
  },
  {
   "cell_type": "markdown",
   "metadata": {},
   "source": [
    "б) $(1/\\sqrt{2},-1/\\sqrt{2},0),(1/\\sqrt{2},1/\\sqrt{2},0), (0,0,1);$<br>"
   ]
  },
  {
   "cell_type": "code",
   "execution_count": 56,
   "metadata": {},
   "outputs": [],
   "source": [
    "def is_basic(x1, x2, x3):\n",
    "    \"\"\"True если попарное скалярное произведение векторов = нулю\"\"\"\n",
    "    return np.dot(x1,x2) == 0 and np.dot(x2,x3) == 0 and np.dot(x1,x3) == 0"
   ]
  },
  {
   "cell_type": "code",
   "execution_count": 57,
   "metadata": {},
   "outputs": [
    {
     "data": {
      "text/plain": [
       "True"
      ]
     },
     "execution_count": 57,
     "metadata": {},
     "output_type": "execute_result"
    }
   ],
   "source": [
    "x1 = np.array([1/np.sqrt(2), -1/np.sqrt(2), 0])\n",
    "x2 = np.array([1/np.sqrt(2), 1/np.sqrt(2), 0])\n",
    "x3 = np.array([0, 0, 1])\n",
    "\n",
    "is_basic(x1, x2, x3)"
   ]
  },
  {
   "cell_type": "markdown",
   "metadata": {},
   "source": [
    "в) $(1/2, -1/2, 0), (0, 1/2, 1/2), (0,0,1);$<br>"
   ]
  },
  {
   "cell_type": "code",
   "execution_count": 58,
   "metadata": {},
   "outputs": [
    {
     "data": {
      "text/plain": [
       "False"
      ]
     },
     "execution_count": 58,
     "metadata": {},
     "output_type": "execute_result"
    }
   ],
   "source": [
    "x1 = np.array([1/2, -1/2, 0])\n",
    "x2 = np.array([0,1/2, 1/2])\n",
    "x3 = np.array([0, 0, 1])\n",
    "\n",
    "is_basic(x1, x2, x3)"
   ]
  },
  {
   "cell_type": "markdown",
   "metadata": {},
   "source": [
    "г) $(1,0,0),(0,1,0),(0,0,1)?$ "
   ]
  },
  {
   "cell_type": "code",
   "execution_count": 59,
   "metadata": {},
   "outputs": [
    {
     "data": {
      "text/plain": [
       "True"
      ]
     },
     "execution_count": 59,
     "metadata": {},
     "output_type": "execute_result"
    }
   ],
   "source": [
    "x1 = np.array([1, 0, 0])\n",
    "x2 = np.array([0, 1, 0])\n",
    "x3 = np.array([0, 0, 1])\n",
    "\n",
    "is_basic(x1, x2, x3)"
   ]
  },
  {
   "cell_type": "code",
   "execution_count": null,
   "metadata": {},
   "outputs": [],
   "source": []
  }
 ],
 "metadata": {
  "kernelspec": {
   "display_name": "Python 3",
   "language": "python",
   "name": "python3"
  },
  "language_info": {
   "codemirror_mode": {
    "name": "ipython",
    "version": 3
   },
   "file_extension": ".py",
   "mimetype": "text/x-python",
   "name": "python",
   "nbconvert_exporter": "python",
   "pygments_lexer": "ipython3",
   "version": "3.7.4"
  }
 },
 "nbformat": 4,
 "nbformat_minor": 2
}
